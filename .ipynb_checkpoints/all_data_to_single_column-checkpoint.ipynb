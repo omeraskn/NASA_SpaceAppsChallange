{
 "cells": [
  {
   "cell_type": "code",
   "execution_count": 8,
   "id": "9b1bb472-37a8-46d1-9f05-c20bd3426c7c",
   "metadata": {},
   "outputs": [],
   "source": [
    "import pandas as pd\n",
    "import numpy as np\n",
    "import os"
   ]
  },
  {
   "cell_type": "code",
   "execution_count": 10,
   "id": "f22a5d00-e22b-4750-8ad8-54e2afa9b4e4",
   "metadata": {},
   "outputs": [],
   "source": [
    "for dirname, _, filenames in os.walk('olur'):\n",
    "    for filename in filenames:\n",
    "        print(os.path.join(dirname, filename))"
   ]
  },
  {
   "cell_type": "code",
   "execution_count": 54,
   "id": "5d65c71b-1125-4c1b-a8b8-38bff0b56b3c",
   "metadata": {},
   "outputs": [],
   "source": [
    "data = pd.read_csv(\"drug_poison.csv\")"
   ]
  },
  {
   "cell_type": "code",
   "execution_count": 55,
   "id": "d7a2b2f4-ff41-4896-ac82-3fcdd3a01ac1",
   "metadata": {},
   "outputs": [],
   "source": [
    "data = data[data['Year'] >= 2016]\n",
    "data = data[data['Sex'] == 'Both Sexes']\n",
    "data = data[data['Age Group'] == 'All Ages']\n",
    "data = data[data['Race and Hispanic Origin'] == 'All Races-All Origins']\n",
    "data = data.drop(['Crude Death Rate', 'Standard Error for Crude Rate', 'Lower Confidence Limit for Crude Rate', \n",
    "                  'Upper Confidence Limit for Crude Rate', 'Age-adjusted Rate', 'Standard Error for Age-adjusted Rate',\n",
    "                  'Lower Confidence Limit for Age-adjusted Rate', 'Upper Confidence Limit for Age-adjusted Rate', 'State Crude Rate in Range',\n",
    "                  'US Crude Rate', 'US Age-adjusted Rate', 'Unit', 'Year', 'Age Group', 'Sex', 'Race and Hispanic Origin'], axis=1)\n",
    "data['d/p'] = data['Deaths'] / data['Population']"
   ]
  },
  {
   "cell_type": "code",
   "execution_count": 57,
   "id": "291e5213-4a14-4ae6-bcdb-a8312d7bbe7a",
   "metadata": {},
   "outputs": [],
   "source": [
    "data.to_csv('data_new/drug_death_perc_2016.csv')"
   ]
  },
  {
   "cell_type": "code",
   "execution_count": 97,
   "id": "b068bf6d-b1ce-4ca4-8c17-fc4fc48f691d",
   "metadata": {},
   "outputs": [],
   "source": [
    "data2 = pd.read_csv(\"pollution_2016.csv\")"
   ]
  },
  {
   "cell_type": "code",
   "execution_count": 99,
   "id": "c5e733a5-4dbf-445f-bfce-63b531876e22",
   "metadata": {},
   "outputs": [],
   "source": [
    "data2['Date Local'] = pd.to_datetime(data['Date Local'])\n",
    "data2['Year'] = data2['Date Local'].dt.year\n",
    "data2['Month'] = data2['Date Local'].dt.month\n",
    "data2 = data2[data2['Year'] >= 2016]\n",
    "data2 = data2[data2['Month'] == 1]\n",
    "columns = ['State','NO2 Mean','O3 Mean','SO2 Mean','CO Mean']\n",
    "data2 = data[columns]\n",
    "data2 = data2.groupby('State').mean().reset_index()\n",
    "data2['total_pol'] = data2['NO2 Mean'] + data2['O3 Mean'] + data2['SO2 Mean'] + data2['CO Mean']"
   ]
  },
  {
   "cell_type": "code",
   "execution_count": 101,
   "id": "912c6f0d-069b-4202-bf4e-ed96b64d1224",
   "metadata": {},
   "outputs": [],
   "source": [
    "data2.to_csv('data_new/pollution_new_2016.csv')"
   ]
  },
  {
   "cell_type": "code",
   "execution_count": 138,
   "id": "16c40bc4-c3d9-48f1-b337-a9fe8ffe3529",
   "metadata": {},
   "outputs": [],
   "source": [
    "data3 = pd.read_csv('population.csv')"
   ]
  },
  {
   "cell_type": "code",
   "execution_count": 143,
   "id": "776d8075-396b-4d20-9cd7-e3a337ca46aa",
   "metadata": {},
   "outputs": [],
   "source": [
    "columns = ['state_name', 'population', 'density']\n",
    "data3 = data3[columns]\n",
    "data3 = data3.groupby('state_name').sum().reset_index()"
   ]
  },
  {
   "cell_type": "code",
   "execution_count": 144,
   "id": "557b1fe4-c6fd-4999-8527-fa20bbfc1870",
   "metadata": {},
   "outputs": [],
   "source": [
    "data3.to_csv('data_new/population_new.csv')"
   ]
  },
  {
   "cell_type": "code",
   "execution_count": 177,
   "id": "967a05ad-12eb-452f-82a6-6fe6fc7124dd",
   "metadata": {},
   "outputs": [],
   "source": [
    "data0 = pd.read_csv('US_Accidents_March23.csv')"
   ]
  },
  {
   "cell_type": "code",
   "execution_count": 169,
   "id": "ca9d1e78-5dba-4034-9824-d4217a969c85",
   "metadata": {},
   "outputs": [],
   "source": [
    "state_dict = {\n",
    "    'AL': 'Alabama',\n",
    "    'AR': 'Arkansas',\n",
    "    'AZ': 'Arizona',\n",
    "    'CA': 'California',\n",
    "    'CO': 'Colorado',\n",
    "    'CT': 'Connecticut',\n",
    "    'DC': 'District of Columbia',\n",
    "    'DE': 'Delaware',\n",
    "    'FL': 'Florida',\n",
    "    'GA': 'Georgia',\n",
    "    'IA': 'Iowa',\n",
    "    'ID': 'Idaho',\n",
    "    'IL': 'Illinois',\n",
    "    'IN': 'Indiana',\n",
    "    'KS': 'Kansas',\n",
    "    'KY': 'Kentucky',\n",
    "    'LA': 'Louisiana',\n",
    "    'MA': 'Massachusetts',\n",
    "    'MD': 'Maryland',\n",
    "    'ME': 'Maine',\n",
    "    'MI': 'Michigan',\n",
    "    'MN': 'Minnesota',\n",
    "    'MO': 'Missouri',\n",
    "    'MS': 'Mississippi',\n",
    "    'MT': 'Montana',\n",
    "    'NC': 'North Carolina',\n",
    "    'ND': 'North Dakota',\n",
    "    'NE': 'Nebraska',\n",
    "    'NH': 'New Hampshire',\n",
    "    'NJ': 'New Jersey',\n",
    "    'NM': 'New Mexico',\n",
    "    'NV': 'Nevada',\n",
    "    'NY': 'New York',\n",
    "    'OH': 'Ohio',\n",
    "    'OK': 'Oklahoma',\n",
    "    'OR': 'Oregon',\n",
    "    'PA': 'Pennsylvania',\n",
    "    'RI': 'Rhode Island',\n",
    "    'SC': 'South Carolina',\n",
    "    'SD': 'South Dakota',\n",
    "    'TN': 'Tennessee',\n",
    "    'TX': 'Texas',\n",
    "    'UT': 'Utah',\n",
    "    'VA': 'Virginia',\n",
    "    'VT': 'Vermont',\n",
    "    'WA': 'Washington',\n",
    "    'WI': 'Wisconsin',\n",
    "    'WV': 'West Virginia',\n",
    "    'WY': 'Wyoming'\n",
    "}\n",
    "\n"
   ]
  },
  {
   "cell_type": "code",
   "execution_count": 179,
   "id": "b0018a9b-20e5-4098-8c9d-ae1957455ec8",
   "metadata": {},
   "outputs": [
    {
     "name": "stderr",
     "output_type": "stream",
     "text": [
      "C:\\Users\\melih\\AppData\\Local\\Temp\\ipykernel_3152\\1115025041.py:1: SettingWithCopyWarning: \n",
      "A value is trying to be set on a copy of a slice from a DataFrame.\n",
      "Try using .loc[row_indexer,col_indexer] = value instead\n",
      "\n",
      "See the caveats in the documentation: https://pandas.pydata.org/pandas-docs/stable/user_guide/indexing.html#returning-a-view-versus-a-copy\n",
      "  data4['State'] = data4['State'].map(state_dict)\n"
     ]
    }
   ],
   "source": [
    "col = ['State']\n",
    "data4 = data0[col]\n",
    "data4['State'] = data4['State'].map(state_dict)\n",
    "data4 = data4.groupby('State').size().reset_index(name='Total Crashes')\n",
    "#data4 = data4.drop(['State'], axis=1)"
   ]
  },
  {
   "cell_type": "code",
   "execution_count": 184,
   "id": "da49eec2-d698-4efc-9238-5d9ab115d036",
   "metadata": {},
   "outputs": [],
   "source": [
    "data4.to_csv('data_new/crashes_new.csv')"
   ]
  },
  {
   "cell_type": "code",
   "execution_count": 243,
   "id": "0fad80ef-3ad6-4997-afb2-d19f2dd22b6c",
   "metadata": {},
   "outputs": [],
   "source": [
    "data5 = pd.read_excel('electri_ price.xlsx', index_col=0)"
   ]
  },
  {
   "cell_type": "code",
   "execution_count": 244,
   "id": "877dd973-4e89-43e0-9f40-3434fe124995",
   "metadata": {},
   "outputs": [],
   "source": [
    "data5 = data5[data5['Industry Sector Category'] == 'Total Electric Industry']\n",
    "data5 = data5[data5['Year'] == 2020]\n",
    "data5['State'] = data5['State'].map(state_dict)\n",
    "cols = ['State', 'Total']\n",
    "data5 = data5[cols].reset_index()\n",
    "data5 = data5[cols]"
   ]
  },
  {
   "cell_type": "code",
   "execution_count": 246,
   "id": "f9ed8b0c-6ee8-4e06-ab7c-941ad0ee81f9",
   "metadata": {},
   "outputs": [],
   "source": [
    "data5.to_csv('data_new/mean_electrical_pricing.csv')"
   ]
  },
  {
   "cell_type": "code",
   "execution_count": null,
   "id": "ce49dfad-0e63-4403-9e0e-826ffb98b761",
   "metadata": {},
   "outputs": [],
   "source": []
  }
 ],
 "metadata": {
  "kernelspec": {
   "display_name": "Python 3 (ipykernel)",
   "language": "python",
   "name": "python3"
  },
  "language_info": {
   "codemirror_mode": {
    "name": "ipython",
    "version": 3
   },
   "file_extension": ".py",
   "mimetype": "text/x-python",
   "name": "python",
   "nbconvert_exporter": "python",
   "pygments_lexer": "ipython3",
   "version": "3.11.4"
  }
 },
 "nbformat": 4,
 "nbformat_minor": 5
}
