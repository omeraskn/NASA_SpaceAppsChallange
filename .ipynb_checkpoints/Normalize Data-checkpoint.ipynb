{
 "cells": [
  {
   "cell_type": "code",
   "execution_count": 1,
   "id": "19601ae3-b0ec-4f68-800b-2e269fafbe51",
   "metadata": {},
   "outputs": [],
   "source": [
    "import pandas as pd"
   ]
  },
  {
   "cell_type": "code",
   "execution_count": 2,
   "id": "415d6ccc-1c24-45b8-8412-a9cd833eda63",
   "metadata": {},
   "outputs": [],
   "source": [
    "def normalize_column(df, col):\n",
    "    df[col] = (df[col] - df[col].min()) / (df[col].max() - df[col].min())\n",
    " "
   ]
  },
  {
   "cell_type": "code",
   "execution_count": 13,
   "id": "8a21ff83-70a5-455c-a26b-cae87c33c5bb",
   "metadata": {},
   "outputs": [],
   "source": [
    "data0['Overall Rank'] =  - data0['Overall Rank']"
   ]
  },
  {
   "cell_type": "code",
   "execution_count": 14,
   "id": "8ed4d9b2-fe40-403a-bf8f-d3da6ef37f72",
   "metadata": {},
   "outputs": [],
   "source": [
    "normalize_column(data0, 'Overall Rank')\n",
    "data0.to_csv('csv_data_ranked/after/greenspace_rank.csv')\n"
   ]
  },
  {
   "cell_type": "code",
   "execution_count": null,
   "id": "d2a08509-5ff1-477e-b954-f6da978fcb00",
   "metadata": {},
   "outputs": [],
   "source": []
  }
 ],
 "metadata": {
  "kernelspec": {
   "display_name": "Python 3 (ipykernel)",
   "language": "python",
   "name": "python3"
  },
  "language_info": {
   "codemirror_mode": {
    "name": "ipython",
    "version": 3
   },
   "file_extension": ".py",
   "mimetype": "text/x-python",
   "name": "python",
   "nbconvert_exporter": "python",
   "pygments_lexer": "ipython3",
   "version": "3.11.4"
  }
 },
 "nbformat": 4,
 "nbformat_minor": 5
}
