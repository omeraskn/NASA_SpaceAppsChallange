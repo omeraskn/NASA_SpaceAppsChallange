{
 "cells": [
  {
   "cell_type": "code",
   "execution_count": 2,
   "id": "19601ae3-b0ec-4f68-800b-2e269fafbe51",
   "metadata": {},
   "outputs": [],
   "source": [
    "import pandas as pd\n",
    "import numpy as np\n",
    "import os"
   ]
  },
  {
   "cell_type": "code",
   "execution_count": 3,
   "id": "415d6ccc-1c24-45b8-8412-a9cd833eda63",
   "metadata": {},
   "outputs": [],
   "source": [
    "def normalize_column(df, col):\n",
    "    df[col] = (df[col] - df[col].min()) / (df[col].max() - df[col].min())\n",
    " "
   ]
  },
  {
   "cell_type": "code",
   "execution_count": 4,
   "id": "64e10140-149b-42f0-bbbc-20f7399d429b",
   "metadata": {},
   "outputs": [
    {
     "name": "stdout",
     "output_type": "stream",
     "text": [
      "csv_data_ranked/before\\crashes_new.csv\n",
      "csv_data_ranked/before\\death-rate.csv\n",
      "csv_data_ranked/before\\drug_death_new.csv\n",
      "csv_data_ranked/before\\greenspace.xlsx\n",
      "csv_data_ranked/before\\healthiest_states.csv\n",
      "csv_data_ranked/before\\mean_electrical_pricing.csv\n",
      "csv_data_ranked/before\\natural-disaster.xlsx\n",
      "csv_data_ranked/before\\population_new.csv\n",
      "csv_data_ranked/before\\water-quality.xlsx\n"
     ]
    }
   ],
   "source": [
    "for dirname, _, filenames in os.walk('csv_data_ranked/before'):\n",
    "    for filename in filenames:\n",
    "        print(os.path.join(dirname, filename))"
   ]
  },
  {
   "cell_type": "code",
   "execution_count": 7,
   "id": "f22fa920-3793-4654-848e-181d4ff5d6af",
   "metadata": {},
   "outputs": [],
   "source": [
    "data = pd.read_csv('csv_data_ranked/before\\crashes_new.csv')\n",
    "col = ['State', 'Total Crashes']\n",
    "data = data[col]\n",
    "data['Total Crashes'] = -data['Total Crashes']\n",
    "normalize_column(data, 'Total Crashes')\n",
    "# data.to_csv('csv_data_ranked/after/crashes_rank.csv')"
   ]
  },
  {
   "cell_type": "code",
   "execution_count": 13,
   "id": "8a21ff83-70a5-455c-a26b-cae87c33c5bb",
   "metadata": {},
   "outputs": [],
   "source": [
    "data = pd.read_csv('csv_data_ranked/before\\death-rate.csv')\n",
    "data.rename(columns = {'state':'State'}, inplace = True)\n",
    "data['deathRate'] = -data['deathRate']\n",
    "normalize_column(data, 'deathRate')\n",
    "data.to_csv('csv_data_ranked/after/death_rate_rank.csv')"
   ]
  },
  {
   "cell_type": "code",
   "execution_count": 16,
   "id": "8ed4d9b2-fe40-403a-bf8f-d3da6ef37f72",
   "metadata": {},
   "outputs": [],
   "source": [
    "data = pd.read_csv('csv_data_ranked/before\\drug_death_new.csv')\n",
    "col = ['State', 'd/p']\n",
    "data = data[col]\n",
    "data['d/p'] = -data['d/p']\n",
    "normalize_column(data, 'd/p')\n",
    "# data.to_csv('csv_data_ranked/after/drug_death_rank.csv')"
   ]
  },
  {
   "cell_type": "code",
   "execution_count": 17,
   "id": "d2a08509-5ff1-477e-b954-f6da978fcb00",
   "metadata": {},
   "outputs": [],
   "source": [
    "#\n",
    "#\n",
    "#"
   ]
  },
  {
   "cell_type": "code",
   "execution_count": 6,
   "id": "b19a1ad9-6837-40f5-aca0-240bb02d27c8",
   "metadata": {},
   "outputs": [],
   "source": [
    "data = pd.read_csv('csv_data_ranked/after\\drug_rank.csv')\n",
    "col = ['State', 'd/p']\n",
    "data = data[col]\n",
    "data.rename(columns = {'d/p':'Rank'}, inplace = True)\n",
    "data.to_csv('csv_data_ranked/after/drug_death_rank.csv')"
   ]
  },
  {
   "cell_type": "code",
   "execution_count": null,
   "id": "8ed9ee4b-4edc-4bda-9e9d-9950b6bee321",
   "metadata": {},
   "outputs": [],
   "source": []
  }
 ],
 "metadata": {
  "kernelspec": {
   "display_name": "Python 3 (ipykernel)",
   "language": "python",
   "name": "python3"
  },
  "language_info": {
   "codemirror_mode": {
    "name": "ipython",
    "version": 3
   },
   "file_extension": ".py",
   "mimetype": "text/x-python",
   "name": "python",
   "nbconvert_exporter": "python",
   "pygments_lexer": "ipython3",
   "version": "3.11.4"
  }
 },
 "nbformat": 4,
 "nbformat_minor": 5
}
