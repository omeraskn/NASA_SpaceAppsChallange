{
 "cells": [
  {
   "cell_type": "code",
   "execution_count": 1,
   "id": "19601ae3-b0ec-4f68-800b-2e269fafbe51",
   "metadata": {},
   "outputs": [],
   "source": [
    "import pandas as pd"
   ]
  },
  {
   "cell_type": "code",
   "execution_count": 2,
   "id": "415d6ccc-1c24-45b8-8412-a9cd833eda63",
   "metadata": {},
   "outputs": [],
   "source": [
    "def normalize_column(df, col):\n",
    "    df[col] = (df[col] - df[col].min()) / (df[col].max() - df[col].min())\n",
    " "
   ]
  },
  {
   "cell_type": "code",
   "execution_count": null,
   "id": "db97ae54-b414-4aa6-a392-4ec28c2826c3",
   "metadata": {},
   "outputs": [],
   "source": [
    "data0 = pd.read_excel('electri_ price.xlsx', index_col=0)\n",
    "#data0 = pd.read_csv(\".csv\")\n"
   ]
  }
 ],
 "metadata": {
  "kernelspec": {
   "display_name": "Python 3 (ipykernel)",
   "language": "python",
   "name": "python3"
  },
  "language_info": {
   "codemirror_mode": {
    "name": "ipython",
    "version": 3
   },
   "file_extension": ".py",
   "mimetype": "text/x-python",
   "name": "python",
   "nbconvert_exporter": "python",
   "pygments_lexer": "ipython3",
   "version": "3.11.4"
  }
 },
 "nbformat": 4,
 "nbformat_minor": 5
}
